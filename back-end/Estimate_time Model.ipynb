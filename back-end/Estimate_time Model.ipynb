{
 "cells": [
  {
   "cell_type": "code",
   "execution_count": null,
   "metadata": {},
   "outputs": [],
   "source": []
  },
  {
   "cell_type": "code",
   "execution_count": 1,
   "metadata": {},
   "outputs": [],
   "source": [
    "import pandas as pd\n",
    "import numpy as np\n"
   ]
  },
  {
   "cell_type": "code",
   "execution_count": 2,
   "metadata": {},
   "outputs": [],
   "source": [
    "customers = pd.read_csv(\"data/olist_customers_dataset.csv\")\n",
    "geolocation = pd.read_csv(\"data/olist_geolocation_dataset.csv\")\n",
    "order_items = pd.read_csv(\"data/olist_order_items_dataset.csv\")\n",
    "orders = pd.read_csv(\"data/olist_orders_dataset.csv\")\n",
    "product = pd.read_csv(\"data/olist_products_dataset.csv\")\n",
    "sellers = pd.read_csv(\"data/olist_sellers_dataset.csv\")\n"
   ]
  },
  {
   "cell_type": "code",
   "execution_count": null,
   "metadata": {},
   "outputs": [],
   "source": []
  },
  {
   "cell_type": "code",
   "execution_count": 3,
   "metadata": {},
   "outputs": [],
   "source": [
    "def read_data():\n",
    "    customers = pd.read_csv(\"data/olist_customers_dataset.csv\")\n",
    "    geolocation = pd.read_csv(\"data/olist_geolocation_dataset.csv\")\n",
    "    order_items = pd.read_csv(\"data/olist_order_items_dataset.csv\")\n",
    "    orders = pd.read_csv(\"data/olist_orders_dataset.csv\")\n",
    "    product = pd.read_csv(\"data/olist_products_dataset.csv\")\n",
    "    sellers = pd.read_csv(\"data/olist_sellers_dataset.csv\")   \n",
    "    return orders, customers, geolocation, sellers, order_items, product"
   ]
  },
  {
   "cell_type": "code",
   "execution_count": 4,
   "metadata": {},
   "outputs": [],
   "source": [
    "def grab_col_names(dataframe, cat_th=10, car_th=20):\n",
    "    # cat_cols, cat_but_car\n",
    "    cat_cols = [col for col in dataframe.columns if dataframe[col].dtypes == \"O\"]\n",
    "    num_but_cat = [col for col in dataframe.columns if dataframe[col].nunique() < cat_th and\n",
    "                   dataframe[col].dtypes != \"O\"]\n",
    "    cat_but_car = [col for col in dataframe.columns if dataframe[col].nunique() > car_th and\n",
    "                   dataframe[col].dtypes == \"O\"]\n",
    "    cat_cols = cat_cols + num_but_cat\n",
    "    cat_cols = [col for col in cat_cols if col not in cat_but_car]\n",
    "\n",
    "    # num_cols\n",
    "    num_cols = [col for col in dataframe.columns if dataframe[col].dtypes != \"O\"]\n",
    "    num_cols = [col for col in num_cols if col not in num_but_cat]\n",
    "\n",
    "    print(f\"Observations: {dataframe.shape[0]}\")\n",
    "    print(f\"Variables: {dataframe.shape[1]}\")\n",
    "    print(f'cat_cols: {len(cat_cols)}')\n",
    "    print(f'num_cols: {len(num_cols)}')\n",
    "    print(f'cat_but_car: {len(cat_but_car)}')\n",
    "    print(f'num_but_cat: {len(num_but_cat)}\\n')\n",
    "    return cat_cols, num_cols, cat_but_car"
   ]
  },
  {
   "cell_type": "code",
   "execution_count": 5,
   "metadata": {},
   "outputs": [],
   "source": [
    "def orders_merge():\n",
    "\n",
    "    orders, customers, geolocation, sellers, order_items, product = read_data()\n",
    "    # Order Items\n",
    "    order_items = pd.merge(order_items, product[\n",
    "        [\"product_id\", \"product_weight_g\", \"product_length_cm\", \"product_height_cm\", \"product_width_cm\"]],\n",
    "                           on=\"product_id\")\n",
    "\n",
    "    order_items = order_items.groupby([\"order_id\", \"seller_id\", \"product_id\"])[\n",
    "        [\"product_weight_g\", \"product_length_cm\", \"product_height_cm\", \"product_width_cm\"]].sum()\n",
    "    order_items.reset_index(inplace=True)\n",
    "\n",
    "    orders = pd.merge(orders, order_items[\n",
    "        [\"order_id\", \"product_id\", \"seller_id\", \"product_weight_g\", \"product_length_cm\", \"product_height_cm\",\n",
    "         \"product_width_cm\"]], on=\"order_id\")\n",
    "\n",
    "    # Customers\n",
    "    orders = pd.merge(orders,\n",
    "                          customers[[\"customer_id\", \"customer_city\", \"customer_state\", \"customer_zip_code_prefix\"]],\n",
    "                          on=\"customer_id\")\n",
    "\n",
    "\n",
    "    geolocation = geolocation.groupby(\"geolocation_zip_code_prefix\").agg(\n",
    "        {\"geolocation_lat\": \"mean\", \"geolocation_lng\": \"mean\"})\n",
    "    geolocation.reset_index(inplace=True)\n",
    "\n",
    "    orders = pd.merge(orders, geolocation, left_on=\"customer_zip_code_prefix\",\n",
    "                          right_on=\"geolocation_zip_code_prefix\")\n",
    "    orders.rename(\n",
    "        columns={\"geolocation_lat\": \"customer_geolocation_lat\", \"geolocation_lng\": \"customer_geolocation_lng\"},\n",
    "        inplace=True)\n",
    "\n",
    "    orders = pd.merge(orders, sellers[[\"seller_id\", \"seller_city\", \"seller_state\", \"seller_zip_code_prefix\"]],\n",
    "                          on=\"seller_id\")\n",
    "\n",
    "    orders = pd.merge(orders, geolocation, left_on=\"seller_zip_code_prefix\",\n",
    "                          right_on=\"geolocation_zip_code_prefix\")\n",
    "    orders.rename(\n",
    "        columns={\"geolocation_lat\": \"seller_geolocation_lat\", \"geolocation_lng\": \"seller_geolocation_lng\"},\n",
    "        inplace=True)\n",
    "\n",
    "    return orders"
   ]
  },
  {
   "cell_type": "code",
   "execution_count": 6,
   "metadata": {},
   "outputs": [],
   "source": [
    "def only_one_product(data):\n",
    "    print(f\"Shape Before Single Product Filtering: {data.shape}\")\n",
    "    # Orders with only one product\n",
    "    index = data[\"order_id\"].value_counts()[data[\"order_id\"].value_counts() == 1].index\n",
    "\n",
    "    data = data[data.order_id.isin(index)]\n",
    "    data.reset_index(drop=True, inplace=True)\n",
    "    print(f\"Shape After Single Product Filtering: {data.shape}\\n\")\n",
    "    return data"
   ]
  },
  {
   "cell_type": "code",
   "execution_count": 7,
   "metadata": {},
   "outputs": [],
   "source": [
    "def data_preprocessing():\n",
    "    orders_ = orders_merge()\n",
    "    orders_ = orders_[orders_[\"order_status\"] == \"delivered\"]\n",
    "    orders_.reset_index(drop=True, inplace=True)\n",
    "\n",
    "    for col in orders_.columns[3:8]:\n",
    "        orders_[col] = pd.to_datetime(orders_[col])\n",
    "\n",
    "    orders_ = orders_.dropna()\n",
    "    orders_.reset_index(drop=True, inplace=True)\n",
    "\n",
    "    orders_ = only_one_product(orders_)\n",
    "\n",
    "    return orders_"
   ]
  },
  {
   "cell_type": "code",
   "execution_count": 8,
   "metadata": {},
   "outputs": [],
   "source": [
    "def f_engineering():\n",
    "\n",
    "    data = data_preprocessing()\n",
    "\n",
    "    # Volume of products\n",
    "    data[\"hacim\"] = data[\"product_length_cm\"] * data[\"product_height_cm\"] * data[\"product_width_cm\"]\n",
    "\n",
    "    data[\"purchase_month\"] = data[\"order_purchase_timestamp\"].apply(lambda x: x.month)\n",
    "\n",
    "\n",
    "    # Time taken from order to reach the customer (in days)\n",
    "    data[\"order_completion_day\"] = [\n",
    "        (pd.to_datetime(d.strftime(\"%Y-%m-%d\")) - pd.to_datetime(t.strftime(\"%Y-%m-%d\"))).days\n",
    "        for d, t in zip(data[\"order_delivered_customer_date\"], data[\"order_purchase_timestamp\"])]\n",
    "\n",
    "    # Euclidean distances between seller and customer\n",
    "    data[\"euclidean_distance\"] = (np.sqrt(((data[\"customer_geolocation_lat\"] - data[\"seller_geolocation_lat\"]) ** 2) +\n",
    "                                          ((data[\"customer_geolocation_lng\"] - data[\"seller_geolocation_lng\"]) ** 2)))\n",
    "    \n",
    "    return data"
   ]
  },
  {
   "cell_type": "code",
   "execution_count": 9,
   "metadata": {},
   "outputs": [
    {
     "name": "stdout",
     "output_type": "stream",
     "text": [
      "Shape Before Single Product Filtering: (99679, 26)\n",
      "Shape After Single Product Filtering: (92799, 26)\n",
      "\n"
     ]
    }
   ],
   "source": [
    "data = f_engineering()\n",
    "day=data[\"order_completion_day\"]\n",
    "\n"
   ]
  },
  {
   "cell_type": "code",
   "execution_count": 12,
   "metadata": {},
   "outputs": [],
   "source": [
    "import matplotlib.pyplot as plt"
   ]
  },
  {
   "cell_type": "code",
   "execution_count": 13,
   "metadata": {},
   "outputs": [
    {
     "name": "stderr",
     "output_type": "stream",
     "text": [
      "No handles with labels found to put in legend.\n"
     ]
    },
    {
     "data": {
      "image/png": "[encoded data removed]",
      "text/plain": [
       "<Figure size 432x288 with 1 Axes>"
      ]
     },
     "metadata": {
      "needs_background": "light"
     },
     "output_type": "display_data"
    }
   ],
   "source": [
    "plt.figure(figsize=(6, 4))\n",
    "plt.scatter(range(92799),day)\n",
    "plt.title('day', fontsize=25)\n",
    "plt.legend(loc='best')\n",
    "plt.show()"
   ]
  },
  {
   "cell_type": "code",
   "execution_count": 14,
   "metadata": {},
   "outputs": [
    {
     "name": "stdout",
     "output_type": "stream",
     "text": [
      "Shape Before Single Product Filtering: (99679, 26)\n",
      "Shape After Single Product Filtering: (92799, 26)\n",
      "\n"
     ]
    }
   ],
   "source": [
    "data = f_engineering()"
   ]
  },
  {
   "cell_type": "code",
   "execution_count": 35,
   "metadata": {},
   "outputs": [],
   "source": [
    "data.loc[data[\"order_completion_day\"] >= 30, \"target\"] = \"30+\"\n",
    "\n",
    "data.loc[(3>= data[\"order_completion_day\"]) & (data[\"order_completion_day\"] >=1), \"target\"] = \"1-3\"\n",
    "\n",
    "data.loc[(9>= data[\"order_completion_day\"]) & (data[\"order_completion_day\"] >=4), \"target\"] = \"4-9\"\n",
    "\n",
    "data.loc[(15>= data[\"order_completion_day\"]) & (data[\"order_completion_day\"] >=10), \"target\"] = \"10-15\"\n",
    "\n",
    "data.loc[(30>= data[\"order_completion_day\"]) & (data[\"order_completion_day\"] >=16), \"target\"] = \"16-30\"\n",
    "day = data[[\"target\"]]"
   ]
  },
  {
   "cell_type": "code",
   "execution_count": 36,
   "metadata": {},
   "outputs": [],
   "source": [
    "day = day.groupby([\"target\"])[\"target\"].count().reset_index(name='count')\n",
    "input = list(day[\"count\"])"
   ]
  },
  {
   "cell_type": "code",
   "execution_count": 37,
   "metadata": {},
   "outputs": [
    {
     "data": {
      "text/plain": [
       "[6635, 26884, 19511, 4189, 35579]"
      ]
     },
     "execution_count": 37,
     "metadata": {},
     "output_type": "execute_result"
    }
   ],
   "source": [
    "input"
   ]
  },
  {
   "cell_type": "code",
   "execution_count": 38,
   "metadata": {},
   "outputs": [],
   "source": [
    "day1 = data[[\"order_completion_day\"]]\n",
    "day1 = data.groupby([\"order_completion_day\"])[\"order_completion_day\"].count().reset_index(name='count')"
   ]
  },
  {
   "cell_type": "code",
   "execution_count": 39,
   "metadata": {},
   "outputs": [],
   "source": [
    "input = list(day1[\"count\"])"
   ]
  },
  {
   "cell_type": "code",
   "execution_count": 40,
   "metadata": {},
   "outputs": [
    {
     "data": {
      "image/png": "[encoded data removed]",
      "text/plain": [
       "<Figure size 432x288 with 1 Axes>"
      ]
     },
     "metadata": {},
     "output_type": "display_data"
    }
   ],
   "source": [
    "\n",
    "plt.bar(range(len(input)),input)\n",
    "\n",
    "plt.show()"
   ]
  },
  {
   "cell_type": "code",
   "execution_count": 34,
   "metadata": {},
   "outputs": [],
   "source": [
    "def target_variable_tags():\n",
    "\n",
    "    data = f_engineering()\n",
    "    data.loc[data[\"order_completion_day\"] >= 30, \"target\"] = \"30+\"\n",
    "\n",
    "    data.loc[(3>= data[\"order_completion_day\"]) & (data[\"order_completion_day\"] >=1), \"target\"] = \"1-3\"\n",
    "\n",
    "    data.loc[(9>= data[\"order_completion_day\"]) & (data[\"order_completion_day\"] >=4), \"target\"] = \"4-9\"\n",
    "\n",
    "    data.loc[(15>= data[\"order_completion_day\"]) & (data[\"order_completion_day\"] >=10), \"target\"] = \"10-15\"\n",
    "\n",
    "    data.loc[(30>= data[\"order_completion_day\"]) & (data[\"order_completion_day\"] >=16), \"target\"] = \"16-30\"\n",
    "    \n",
    "\n",
    "    data[\"target\"] = [str(i) for i in data[\"target\"]]\n",
    "    data = data[~(data[\"target\"] == \"nan\")]\n",
    "    data.reset_index(drop=True, inplace=True)\n",
    "\n",
    "    return data"
   ]
  },
  {
   "cell_type": "markdown",
   "metadata": {},
   "source": [
    "Modeling"
   ]
  },
  {
   "cell_type": "code",
   "execution_count": 25,
   "metadata": {},
   "outputs": [],
   "source": [
    "from sklearn.metrics import accuracy_score, confusion_matrix\n",
    "from sklearn.model_selection import train_test_split\n",
    "from sklearn.ensemble import RandomForestClassifier\n",
    "from lightgbm import LGBMClassifier\n",
    "from sklearn.model_selection import GridSearchCV\n",
    "from sklearn.metrics import classification_report"
   ]
  },
  {
   "cell_type": "code",
   "execution_count": 22,
   "metadata": {},
   "outputs": [],
   "source": [
    "def model():\n",
    "\n",
    "    data = target_variable_tags()\n",
    "    models = []\n",
    "    models.append(('LightGBM', LGBMClassifier(random_state=55)))\n",
    "    models.append(('RandomForest', RandomForestClassifier(random_state=55)))\n",
    "\n",
    "    train, test = train_test_split(data, random_state=55, test_size=0.20)\n",
    "    X_train = train[[\"product_weight_g\", \"hacim\",  \"purchase_month\",\"euclidean_distance\"]]\n",
    "    y_train = train[\"target\"]\n",
    "    X_test = test[[\"product_weight_g\", \"hacim\", \"purchase_month\",\"euclidean_distance\"]]\n",
    "    y_test = test[\"target\"]\n",
    "\n",
    "    \n",
    "    print(\"\\nBase Model Accuracy Scores\")\n",
    "    for name, model in models:\n",
    "        model.fit(X_train, y_train)\n",
    "        y_pred = model.predict(X_test)\n",
    "        train_pred = model.predict(X_train)\n",
    "        print(f\"{name} train: {accuracy_score(y_train, train_pred)}\")\n",
    "        print(f\"{name} test: {accuracy_score(y_test, y_pred)}\")\n",
    "\n",
    "    return LGBMClassifier(random_state=55).fit(X_train,y_train), X_train"
   ]
  },
  {
   "cell_type": "code",
   "execution_count": 23,
   "metadata": {},
   "outputs": [],
   "source": [
    "def plot_importance(model, features, num, save=False):\n",
    "    import seaborn as sns\n",
    "    from matplotlib import pyplot as plt\n",
    "\n",
    "    feature_imp = pd.DataFrame({'Value': model.feature_importances_, 'Feature': features.columns})\n",
    "    plt.figure(figsize=(10, 10))\n",
    "    sns.set(font_scale=1)\n",
    "    sns.barplot(x=\"Value\", y=\"Feature\", data=feature_imp.sort_values(by=\"Value\",\n",
    "                                                                      ascending=False)[0:num])\n",
    "    plt.title('Features')\n",
    "    plt.tight_layout()\n",
    "    plt.show()\n",
    "    if save:\n",
    "        plt.savefig('importances.png')"
   ]
  },
  {
   "cell_type": "code",
   "execution_count": 26,
   "metadata": {},
   "outputs": [
    {
     "name": "stdout",
     "output_type": "stream",
     "text": [
      "Shape Before Single Product Filtering: (99679, 26)\n",
      "Shape After Single Product Filtering: (92799, 26)\n",
      "\n",
      "\n",
      "Base Model Accuracy Scores\n",
      "LightGBM train: 0.5164066919906247\n",
      "LightGBM test: 0.47957974137931036\n",
      "RandomForest train: 0.9995150731431343\n",
      "RandomForest test: 0.4380387931034483\n"
     ]
    }
   ],
   "source": [
    "import matplotlib.pyplot as plt\n",
    "import pandas as pd\n",
    "import numpy as np\n",
    "from sklearn.preprocessing import StandardScaler\n",
    "\n",
    "final_model, X_train = model()\n"
   ]
  },
  {
   "cell_type": "code",
   "execution_count": 27,
   "metadata": {},
   "outputs": [
    {
     "data": {
      "image/png": "[encoded data removed]",
      "text/plain": [
       "<Figure size 720x720 with 1 Axes>"
      ]
     },
     "metadata": {
      "needs_background": "light"
     },
     "output_type": "display_data"
    }
   ],
   "source": [
    "plot_importance(final_model, X_train, len(X_train))"
   ]
  },
  {
   "cell_type": "code",
   "execution_count": 41,
   "metadata": {},
   "outputs": [],
   "source": [
    "train, test = train_test_split(data, random_state=55, test_size=0.20)\n",
    "X_train = train[[\"product_weight_g\", \"hacim\",  \"purchase_month\",\"euclidean_distance\"]]\n",
    "y_train = train[\"target\"]\n",
    "X_test = test[[\"product_weight_g\", \"hacim\", \"purchase_month\",\"euclidean_distance\"]]\n",
    "y_test = test[\"target\"]"
   ]
  },
  {
   "cell_type": "code",
   "execution_count": 60,
   "metadata": {},
   "outputs": [
    {
     "data": {
      "text/html": [
       "<div>\n",
       "<style scoped>\n",
       "    .dataframe tbody tr th:only-of-type {\n",
       "        vertical-align: middle;\n",
       "    }\n",
       "\n",
       "    .dataframe tbody tr th {\n",
       "        vertical-align: top;\n",
       "    }\n",
       "\n",
       "    .dataframe thead th {\n",
       "        text-align: right;\n",
       "    }\n",
       "</style>\n",
       "<table border=\"1\" class=\"dataframe\">\n",
       "  <thead>\n",
       "    <tr style=\"text-align: right;\">\n",
       "      <th></th>\n",
       "      <th>product_weight_g</th>\n",
       "      <th>hacim</th>\n",
       "      <th>purchase_month</th>\n",
       "      <th>euclidean_distance</th>\n",
       "    </tr>\n",
       "  </thead>\n",
       "  <tbody>\n",
       "    <tr>\n",
       "      <th>35491</th>\n",
       "      <td>500.0</td>\n",
       "      <td>19305.0</td>\n",
       "      <td>2</td>\n",
       "      <td>0.644786</td>\n",
       "    </tr>\n",
       "  </tbody>\n",
       "</table>\n",
       "</div>"
      ],
      "text/plain": [
       "       product_weight_g    hacim  purchase_month  euclidean_distance\n",
       "35491             500.0  19305.0               2            0.644786"
      ]
     },
     "execution_count": 60,
     "metadata": {},
     "output_type": "execute_result"
    }
   ],
   "source": [
    "X_train[3:4]"
   ]
  },
  {
   "cell_type": "code",
   "execution_count": 51,
   "metadata": {},
   "outputs": [
    {
     "data": {
      "text/plain": [
       "90812    4-9\n",
       "Name: target, dtype: object"
      ]
     },
     "execution_count": 51,
     "metadata": {},
     "output_type": "execute_result"
    }
   ],
   "source": [
    "y_train[3:4]"
   ]
  },
  {
   "cell_type": "code",
   "execution_count": 61,
   "metadata": {},
   "outputs": [],
   "source": [
    "y_pred = final_model.predict(X_train[3:4])"
   ]
  },
  {
   "cell_type": "code",
   "execution_count": 62,
   "metadata": {},
   "outputs": [
    {
     "data": {
      "text/plain": [
       "array(['4-9'], dtype=object)"
      ]
     },
     "execution_count": 62,
     "metadata": {},
     "output_type": "execute_result"
    }
   ],
   "source": [
    "y_pred"
   ]
  }
 ],
 "metadata": {
  "interpreter": {
   "hash": "0e9a1f16723d099a14672d31e4a17abc704e4b13e3a2065ee1f0ef2258e321bb"
  },
  "kernelspec": {
   "display_name": "Python 3.9.7 64-bit",
   "language": "python",
   "name": "python3"
  },
  "language_info": {
   "codemirror_mode": {
    "name": "ipython",
    "version": 3
   },
   "file_extension": ".py",
   "mimetype": "text/x-python",
   "name": "python",
   "nbconvert_exporter": "python",
   "pygments_lexer": "ipython3",
   "version": "3.9.7"
  },
  "orig_nbformat": 4
 },
 "nbformat": 4,
 "nbformat_minor": 2
}
