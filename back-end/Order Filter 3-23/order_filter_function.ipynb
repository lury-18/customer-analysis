{
 "cells": [
  {
   "cell_type": "code",
   "execution_count": 18,
   "metadata": {},
   "outputs": [],
   "source": [
    "# Set-Ups \n",
    "from flask import Flask, request, jsonify, send_file, render_template\n",
    "from werkzeug.utils import secure_filename\n",
    "import joblib\n",
    "import numpy as np\n",
    "import pandas as pd\n",
    "\n",
    "import sqlalchemy\n",
    "from sqlalchemy import create_engine, inspect, select, text, and_, or_, func\n",
    "from sqlalchemy import Table, MetaData\n",
    "\n",
    "from datetime import datetime\n",
    "\n",
    "import json"
   ]
  },
  {
   "cell_type": "code",
   "execution_count": 3,
   "metadata": {},
   "outputs": [
    {
     "name": "stdout",
     "output_type": "stream",
     "text": [
      "2022-03-23 07:04:00,708 INFO sqlalchemy.engine.Engine SELECT DATABASE()\n",
      "2022-03-23 07:04:00,708 INFO sqlalchemy.engine.Engine [raw sql] {}\n",
      "2022-03-23 07:04:00,724 INFO sqlalchemy.engine.Engine SELECT @@sql_mode\n",
      "2022-03-23 07:04:00,724 INFO sqlalchemy.engine.Engine [raw sql] {}\n",
      "2022-03-23 07:04:00,732 INFO sqlalchemy.engine.Engine SELECT @@lower_case_table_names\n",
      "2022-03-23 07:04:00,732 INFO sqlalchemy.engine.Engine [raw sql] {}\n",
      "2022-03-23 07:04:00,754 INFO sqlalchemy.engine.Engine SHOW FULL TABLES FROM `olist`\n",
      "2022-03-23 07:04:00,755 INFO sqlalchemy.engine.Engine [raw sql] {}\n",
      "2022-03-23 07:04:00,772 INFO sqlalchemy.engine.Engine SHOW CREATE TABLE `customers`\n",
      "2022-03-23 07:04:00,773 INFO sqlalchemy.engine.Engine [raw sql] {}\n",
      "2022-03-23 07:04:00,783 INFO sqlalchemy.engine.Engine SHOW CREATE TABLE `geo_avg`\n",
      "2022-03-23 07:04:00,783 INFO sqlalchemy.engine.Engine [raw sql] {}\n",
      "2022-03-23 07:04:00,792 INFO sqlalchemy.engine.Engine SHOW CREATE TABLE `geo_loc`\n",
      "2022-03-23 07:04:00,793 INFO sqlalchemy.engine.Engine [raw sql] {}\n",
      "2022-03-23 07:04:00,802 INFO sqlalchemy.engine.Engine SHOW CREATE TABLE `order_items`\n",
      "2022-03-23 07:04:00,802 INFO sqlalchemy.engine.Engine [raw sql] {}\n",
      "2022-03-23 07:04:00,811 INFO sqlalchemy.engine.Engine SHOW CREATE TABLE `order_reviews`\n",
      "2022-03-23 07:04:00,812 INFO sqlalchemy.engine.Engine [raw sql] {}\n",
      "2022-03-23 07:04:00,820 INFO sqlalchemy.engine.Engine SHOW CREATE TABLE `orders`\n",
      "2022-03-23 07:04:00,821 INFO sqlalchemy.engine.Engine [raw sql] {}\n",
      "2022-03-23 07:04:00,829 INFO sqlalchemy.engine.Engine SHOW CREATE TABLE `payments`\n",
      "2022-03-23 07:04:00,830 INFO sqlalchemy.engine.Engine [raw sql] {}\n",
      "2022-03-23 07:04:00,839 INFO sqlalchemy.engine.Engine SHOW CREATE TABLE `prod_cat_name`\n",
      "2022-03-23 07:04:00,840 INFO sqlalchemy.engine.Engine [raw sql] {}\n",
      "2022-03-23 07:04:00,849 INFO sqlalchemy.engine.Engine SHOW CREATE TABLE `products`\n",
      "2022-03-23 07:04:00,849 INFO sqlalchemy.engine.Engine [raw sql] {}\n",
      "2022-03-23 07:04:00,858 INFO sqlalchemy.engine.Engine SHOW CREATE TABLE `seller`\n",
      "2022-03-23 07:04:00,859 INFO sqlalchemy.engine.Engine [raw sql] {}\n",
      "2022-03-23 07:04:00,867 INFO sqlalchemy.engine.Engine SHOW CREATE TABLE `time_table`\n",
      "2022-03-23 07:04:00,868 INFO sqlalchemy.engine.Engine [raw sql] {}\n"
     ]
    }
   ],
   "source": [
    "# Connect to database\n",
    "passwd = 'FyZSMAiH'\n",
    "w_engine = create_engine('mysql+pymysql://e0376935:' + passwd + '@localhost:3306/olist', echo=True)\n",
    "\n",
    "m2 = MetaData(bind=w_engine)\n",
    "m2.reflect()\n",
    "\n",
    "orders = Table(\"orders\", m2, autoload=True)"
   ]
  },
  {
   "cell_type": "markdown",
   "metadata": {},
   "source": [
    "Order Filter Function"
   ]
  },
  {
   "cell_type": "code",
   "execution_count": 16,
   "metadata": {},
   "outputs": [
    {
     "name": "stdout",
     "output_type": "stream",
     "text": [
      "2022-03-23 07:13:04,703 INFO sqlalchemy.engine.Engine SELECT orders.order_id, orders.customer_id, orders.order_status, orders.purchase_time, orders.approval_time, orders.delivered_carrier, orders.delivered_customer, orders.estimated_delivery \n",
      "FROM orders \n",
      "WHERE orders.order_status = %(order_status_1)s ORDER BY orders.purchase_time \n",
      " LIMIT %(param_1)s\n",
      "2022-03-23 07:13:04,703 INFO sqlalchemy.engine.Engine [cached since 542s ago] {'order_status_1': 'delivered', 'param_1': 10}\n"
     ]
    },
    {
     "data": {
      "text/plain": [
       "[('bfbd0f9bdef84302105ad712db648a6c', '86dc2ffce2dfff336de2f386a786e574', 'delivered', datetime.datetime(2016, 9, 15, 12, 16, 38), datetime.datetime(2016, 9, 15, 12, 16, 38), datetime.datetime(2016, 11, 7, 17, 11, 53), datetime.datetime(2016, 11, 9, 7, 47, 38), datetime.datetime(2016, 10, 4, 0, 0)),\n",
       " ('3b697a20d9e427646d92567910af6d57', '355077684019f7f60a031656bd7262b8', 'delivered', datetime.datetime(2016, 10, 3, 9, 44, 50), datetime.datetime(2016, 10, 6, 15, 50, 54), datetime.datetime(2016, 10, 23, 14, 2, 13), datetime.datetime(2016, 10, 26, 14, 2, 13), datetime.datetime(2016, 10, 27, 0, 0)),\n",
       " ('be5bc2f0da14d8071e2d45451ad119d9', '7ec40b22510fdbea1b08921dd39e63d8', 'delivered', datetime.datetime(2016, 10, 3, 16, 56, 50), datetime.datetime(2016, 10, 6, 16, 3, 44), datetime.datetime(2016, 10, 21, 16, 33, 46), datetime.datetime(2016, 10, 27, 18, 19, 38), datetime.datetime(2016, 11, 7, 0, 0)),\n",
       " ('a41c8759fbe7aab36ea07e038b2d4465', '6f989332712d3222b6571b1cf5b835ce', 'delivered', datetime.datetime(2016, 10, 3, 21, 13, 36), datetime.datetime(2016, 10, 5, 3, 11, 49), datetime.datetime(2016, 10, 25, 11, 57, 59), datetime.datetime(2016, 11, 3, 10, 58, 7), datetime.datetime(2016, 11, 29, 0, 0)),\n",
       " ('d207cc272675637bfed0062edffd0818', 'b8cf418e97ae795672d326288dfab7a7', 'delivered', datetime.datetime(2016, 10, 3, 22, 6, 3), datetime.datetime(2016, 10, 4, 10, 28, 7), datetime.datetime(2016, 10, 21, 14, 23, 37), datetime.datetime(2016, 10, 31, 11, 7, 42), datetime.datetime(2016, 11, 23, 0, 0)),\n",
       " ('cd3b8574c82b42fc8129f6d502690c3e', '7812fcebfc5e8065d31e1bb5f0017dae', 'delivered', datetime.datetime(2016, 10, 3, 22, 31, 31), datetime.datetime(2016, 10, 4, 10, 19, 23), datetime.datetime(2016, 10, 8, 10, 34, 1), datetime.datetime(2016, 10, 14, 16, 8), datetime.datetime(2016, 11, 23, 0, 0)),\n",
       " ('ae8a60e4b03c5a4ba9ca0672c164b181', 'e6f959bf384d1d53b6d68826699bba12', 'delivered', datetime.datetime(2016, 10, 3, 22, 44, 10), datetime.datetime(2016, 10, 4, 10, 28, 25), datetime.datetime(2016, 10, 30, 14, 22, 4), datetime.datetime(2016, 11, 3, 14, 4, 50), datetime.datetime(2016, 12, 1, 0, 0)),\n",
       " ('ef1b29b591d31d57c0d7337460dd83c9', 'dc607dc98d6a11d5d04d9f2a70aa6c34', 'delivered', datetime.datetime(2016, 10, 3, 22, 51, 30), datetime.datetime(2016, 10, 4, 10, 28, 19), datetime.datetime(2016, 10, 21, 14, 23, 36), datetime.datetime(2016, 11, 1, 15, 14, 45), datetime.datetime(2016, 11, 25, 0, 0)),\n",
       " ('0a0837a5eee9e7a9ce2b1fa831944d27', '4f3f778022aefa22b9f9e52d2c47edf3', 'delivered', datetime.datetime(2016, 10, 4, 9, 6, 10), datetime.datetime(2016, 10, 6, 11, 43, 20), datetime.datetime(2016, 10, 15, 10, 33, 8), datetime.datetime(2016, 10, 22, 14, 51, 18), datetime.datetime(2016, 11, 24, 0, 0)),\n",
       " ('1ff217aa612f6cd7c4255c9bfe931c8b', 'b3a9bf200375f53cc5c6991919c356fd', 'delivered', datetime.datetime(2016, 10, 4, 9, 16, 33), datetime.datetime(2016, 10, 4, 9, 43, 32), datetime.datetime(2016, 10, 21, 16, 33, 45), datetime.datetime(2016, 10, 24, 16, 33, 45), datetime.datetime(2016, 11, 24, 0, 0))]"
      ]
     },
     "execution_count": 16,
     "metadata": {},
     "output_type": "execute_result"
    }
   ],
   "source": [
    "# Try the query\n",
    "stmt1 = select([orders]).\\\n",
    "        where(orders.c.order_status == \"delivered\").\\\n",
    "        order_by(orders.c.purchase_time).limit(10)\n",
    "    \n",
    "with w_engine.connect() as con:\n",
    "        d1 = con.execute(stmt1)\n",
    "    \n",
    "d1.fetchall()"
   ]
  },
  {
   "cell_type": "code",
   "execution_count": 5,
   "metadata": {},
   "outputs": [
    {
     "data": {
      "text/plain": [
       "False"
      ]
     },
     "execution_count": 5,
     "metadata": {},
     "output_type": "execute_result"
    }
   ],
   "source": [
    "datetime(2016, 10, 24, 16, 33, 45) > datetime.strptime('2017-06-26 21:14:55', '%Y-%m-%d %H:%M:%S')"
   ]
  },
  {
   "cell_type": "code",
   "execution_count": 9,
   "metadata": {},
   "outputs": [],
   "source": [
    "# Careful! The time input must in this format: '2017-02-28'\n",
    "# If we want to include time, like \"2017-02-28 00:00:00\", use '%Y-%m-%d %H:%M:%S' instead\n",
    "\n",
    "def select_orders(start_time, end_time, status):\n",
    "    start_datetime = datetime.strptime(start_time, '%Y-%m-%d')\n",
    "    end_datetime = datetime.strptime(end_time, '%Y-%m-%d')\n",
    "\n",
    "    query1 = select([orders]).\\\n",
    "        where(orders.c.order_status == status).\\\n",
    "        where(orders.c.purchase_time > start_datetime).\\\n",
    "        where(orders.c.purchase_time < end_datetime).\\\n",
    "        order_by(orders.c.purchase_time).limit(10)\n",
    "    \n",
    "    with w_engine.connect() as con:\n",
    "        d1 = con.execute(query1)\n",
    "    \n",
    "    return d1.fetchall()"
   ]
  },
  {
   "cell_type": "code",
   "execution_count": 15,
   "metadata": {},
   "outputs": [
    {
     "name": "stdout",
     "output_type": "stream",
     "text": [
      "2022-03-23 07:09:24,416 INFO sqlalchemy.engine.Engine SELECT orders.order_id, orders.customer_id, orders.order_status, orders.purchase_time, orders.approval_time, orders.delivered_carrier, orders.delivered_customer, orders.estimated_delivery \n",
      "FROM orders \n",
      "WHERE orders.order_status = %(order_status_1)s AND orders.purchase_time > %(purchase_time_1)s AND orders.purchase_time < %(purchase_time_2)s ORDER BY orders.purchase_time \n",
      " LIMIT %(param_1)s\n",
      "2022-03-23 07:09:24,416 INFO sqlalchemy.engine.Engine [cached since 315.3s ago] {'order_status_1': 'delivered', 'purchase_time_1': datetime.datetime(2017, 2, 28, 0, 0), 'purchase_time_2': datetime.datetime(2017, 3, 15, 0, 0), 'param_1': 10}\n"
     ]
    },
    {
     "data": {
      "text/plain": [
       "'7b7ce86399877a0908f5af4041da975d'"
      ]
     },
     "execution_count": 15,
     "metadata": {},
     "output_type": "execute_result"
    }
   ],
   "source": [
    "s1 = select_orders('2017-02-28','2017-03-15')\n",
    "type(s1) # s1 is a list"
   ]
  },
  {
   "cell_type": "code",
   "execution_count": 17,
   "metadata": {},
   "outputs": [],
   "source": [
    "app = Flask(__name__)\n",
    "\n",
    "# Order Filter\n",
    "# This API should return a list containing orders from one time to another\n",
    "# \"status\" argument determines the order is \"delievered\" ot \"cancelled\" etc.\n",
    "@app.route(\"/orders\", methods=[\"GET\"])\n",
    "def order_filter():\n",
    "    start_time = request.args.get('start_time')\n",
    "    end_time = request.args.get('end_time')\n",
    "    status = request.args.get('status')\n",
    "\n",
    "    return json.dump(select_orders(start_time, end_time, status))"
   ]
  },
  {
   "cell_type": "code",
   "execution_count": 32,
   "metadata": {},
   "outputs": [
    {
     "data": {
      "text/plain": [
       "datetime.datetime(2017, 4, 3, 0, 0)"
      ]
     },
     "execution_count": 32,
     "metadata": {},
     "output_type": "execute_result"
    }
   ],
   "source": [
    "type(s1[1])\n",
    "len(s1)\n",
    "s1[0][7]"
   ]
  },
  {
   "cell_type": "code",
   "execution_count": 30,
   "metadata": {},
   "outputs": [
    {
     "data": {
      "text/plain": [
       "list"
      ]
     },
     "execution_count": 30,
     "metadata": {},
     "output_type": "execute_result"
    }
   ],
   "source": [
    "d1 = []\n",
    "for i in range(len(s1)):\n",
    "    d1.append(s1[i][0])\n",
    "\n",
    "type(d1)"
   ]
  }
 ],
 "metadata": {
  "interpreter": {
   "hash": "8c937e174cfb2e891dbe4bc6be130f50f9ec153356d358396125ca9153f6efdb"
  },
  "kernelspec": {
   "display_name": "Python 3.10.2 64-bit",
   "language": "python",
   "name": "python3"
  },
  "language_info": {
   "codemirror_mode": {
    "name": "ipython",
    "version": 3
   },
   "file_extension": ".py",
   "mimetype": "text/x-python",
   "name": "python",
   "nbconvert_exporter": "python",
   "pygments_lexer": "ipython3",
   "version": "3.10.2"
  },
  "orig_nbformat": 4
 },
 "nbformat": 4,
 "nbformat_minor": 2
}
