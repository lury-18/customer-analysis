{
 "cells": [
  {
   "cell_type": "markdown",
   "metadata": {},
   "source": []
  },
  {
   "cell_type": "markdown",
   "metadata": {},
   "source": [
    "Estiamte stages of delivery"
   ]
  },
  {
   "cell_type": "code",
   "execution_count": 1,
   "metadata": {},
   "outputs": [],
   "source": [
    "### Set-ups\n",
    "import sqlalchemy\n",
    "from sqlalchemy import create_engine, inspect, select, text, and_, or_, func\n",
    "from sqlalchemy import Table, MetaData\n",
    "\n",
    "import pandas as pd"
   ]
  },
  {
   "cell_type": "code",
   "execution_count": 2,
   "metadata": {},
   "outputs": [],
   "source": [
    "### Connecting to Database using my password\n",
    "passwd = 'FyZSMAiH'\n",
    "w_engine = create_engine('mysql+pymysql://e0376935:' + passwd + '@localhost:3306/olist', echo=True)"
   ]
  },
  {
   "cell_type": "code",
   "execution_count": 3,
   "metadata": {},
   "outputs": [
    {
     "name": "stdout",
     "output_type": "stream",
     "text": [
      "2022-03-16 22:08:28,131 INFO sqlalchemy.engine.Engine SELECT DATABASE()\n",
      "2022-03-16 22:08:28,131 INFO sqlalchemy.engine.Engine [raw sql] {}\n",
      "2022-03-16 22:08:28,170 INFO sqlalchemy.engine.Engine SELECT @@sql_mode\n",
      "2022-03-16 22:08:28,170 INFO sqlalchemy.engine.Engine [raw sql] {}\n",
      "2022-03-16 22:08:28,189 INFO sqlalchemy.engine.Engine SELECT @@lower_case_table_names\n",
      "2022-03-16 22:08:28,189 INFO sqlalchemy.engine.Engine [raw sql] {}\n",
      "2022-03-16 22:08:28,248 INFO sqlalchemy.engine.Engine SHOW FULL TABLES FROM `olist`\n",
      "2022-03-16 22:08:28,249 INFO sqlalchemy.engine.Engine [raw sql] {}\n",
      "2022-03-16 22:08:28,278 INFO sqlalchemy.engine.Engine SHOW CREATE TABLE `customers`\n",
      "2022-03-16 22:08:28,279 INFO sqlalchemy.engine.Engine [raw sql] {}\n",
      "2022-03-16 22:08:28,300 INFO sqlalchemy.engine.Engine SHOW CREATE TABLE `geo_loc`\n",
      "2022-03-16 22:08:28,301 INFO sqlalchemy.engine.Engine [raw sql] {}\n",
      "2022-03-16 22:08:28,322 INFO sqlalchemy.engine.Engine SHOW CREATE TABLE `order_items`\n",
      "2022-03-16 22:08:28,323 INFO sqlalchemy.engine.Engine [raw sql] {}\n",
      "2022-03-16 22:08:28,344 INFO sqlalchemy.engine.Engine SHOW CREATE TABLE `order_reviews`\n",
      "2022-03-16 22:08:28,344 INFO sqlalchemy.engine.Engine [raw sql] {}\n",
      "2022-03-16 22:08:28,367 INFO sqlalchemy.engine.Engine SHOW CREATE TABLE `orders`\n",
      "2022-03-16 22:08:28,367 INFO sqlalchemy.engine.Engine [raw sql] {}\n",
      "2022-03-16 22:08:28,388 INFO sqlalchemy.engine.Engine SHOW CREATE TABLE `payments`\n",
      "2022-03-16 22:08:28,389 INFO sqlalchemy.engine.Engine [raw sql] {}\n",
      "2022-03-16 22:08:28,408 INFO sqlalchemy.engine.Engine SHOW CREATE TABLE `prod_cat_name`\n",
      "2022-03-16 22:08:28,409 INFO sqlalchemy.engine.Engine [raw sql] {}\n",
      "2022-03-16 22:08:28,429 INFO sqlalchemy.engine.Engine SHOW CREATE TABLE `products`\n",
      "2022-03-16 22:08:28,429 INFO sqlalchemy.engine.Engine [raw sql] {}\n",
      "2022-03-16 22:08:28,454 INFO sqlalchemy.engine.Engine SHOW CREATE TABLE `seller`\n",
      "2022-03-16 22:08:28,454 INFO sqlalchemy.engine.Engine [raw sql] {}\n"
     ]
    }
   ],
   "source": [
    "m2 = MetaData(bind=w_engine)\n",
    "m2.reflect()"
   ]
  },
  {
   "cell_type": "code",
   "execution_count": 4,
   "metadata": {},
   "outputs": [
    {
     "name": "stdout",
     "output_type": "stream",
     "text": [
      "customers\n",
      "geo_loc\n",
      "order_items\n",
      "order_reviews\n",
      "orders\n",
      "payments\n",
      "prod_cat_name\n",
      "products\n",
      "seller\n"
     ]
    }
   ],
   "source": [
    "for tt in m2.tables:\n",
    "    print(tt)"
   ]
  },
  {
   "cell_type": "markdown",
   "metadata": {},
   "source": [
    "Example of converting a quary result to a panda.dataframe"
   ]
  },
  {
   "cell_type": "code",
   "execution_count": 5,
   "metadata": {},
   "outputs": [
    {
     "name": "stdout",
     "output_type": "stream",
     "text": [
      "2022-03-16 22:08:33,677 INFO sqlalchemy.engine.Engine SELECT customers.customer_id, customers.customer_uid, customers.zip_code, customers.city, customers.customer_state \n",
      "FROM customers\n",
      "2022-03-16 22:08:33,677 INFO sqlalchemy.engine.Engine [generated in 0.00082s] {}\n"
     ]
    },
    {
     "data": {
      "text/plain": [
       "pandas.core.frame.DataFrame"
      ]
     },
     "execution_count": 5,
     "metadata": {},
     "output_type": "execute_result"
    }
   ],
   "source": [
    "meas_table = Table(\"customers\", m2, autoload=True)\n",
    "\n",
    "# Select all columns of customers table\n",
    "t1 = select([meas_table])\n",
    "\n",
    "with w_engine.connect() as con2:\n",
    "    d1 = con2.execute(t1)\n",
    "\n",
    "s1 = pd.DataFrame.from_records(d1.fetchall())\n",
    "type(s1)\n"
   ]
  },
  {
   "cell_type": "code",
   "execution_count": 64,
   "metadata": {},
   "outputs": [
    {
     "data": {
      "text/plain": [
       "'osasco'"
      ]
     },
     "execution_count": 64,
     "metadata": {},
     "output_type": "execute_result"
    }
   ],
   "source": [
    "s1[3][0]"
   ]
  },
  {
   "cell_type": "code",
   "execution_count": 6,
   "metadata": {},
   "outputs": [
    {
     "name": "stdout",
     "output_type": "stream",
     "text": [
      "2022-03-16 22:08:38,408 INFO sqlalchemy.engine.Engine SHOW CREATE TABLE `geo_avg`\n",
      "2022-03-16 22:08:38,409 INFO sqlalchemy.engine.Engine [raw sql] {}\n",
      "2022-03-16 22:08:38,435 INFO sqlalchemy.engine.Engine DESCRIBE `geo_avg`\n",
      "2022-03-16 22:08:38,436 INFO sqlalchemy.engine.Engine [raw sql] {}\n",
      "2022-03-16 22:08:38,500 INFO sqlalchemy.engine.Engine SELECT geo_avg.zip_code, geo_avg.latitude, geo_avg.longitude, geo_avg.city, geo_avg.state \n",
      "FROM geo_avg\n",
      "2022-03-16 22:08:38,500 INFO sqlalchemy.engine.Engine [generated in 0.00058s] {}\n"
     ]
    }
   ],
   "source": [
    "# Get dataframe for geo_avg\n",
    "\n",
    "temp1 = Table(\"geo_avg\", m2, autoload=True)\n",
    "\n",
    "temp2 = select([temp1])\n",
    "\n",
    "with w_engine.connect() as con2:\n",
    "    temp3 = con2.execute(temp2)\n",
    "\n",
    "temp4 = temp3.fetchall()\n",
    "\n",
    "geo_avg = pd.DataFrame.from_records(temp4)\n",
    "geo_avg.columns = temp4[0].keys()\n"
   ]
  },
  {
   "cell_type": "code",
   "execution_count": 7,
   "metadata": {},
   "outputs": [
    {
     "name": "stdout",
     "output_type": "stream",
     "text": [
      "2022-03-16 22:09:02,008 INFO sqlalchemy.engine.Engine SHOW CREATE TABLE `time_table_6`\n",
      "2022-03-16 22:09:02,009 INFO sqlalchemy.engine.Engine [raw sql] {}\n",
      "2022-03-16 22:09:02,030 INFO sqlalchemy.engine.Engine DESCRIBE `time_table_6`\n",
      "2022-03-16 22:09:02,030 INFO sqlalchemy.engine.Engine [raw sql] {}\n",
      "2022-03-16 22:09:02,073 INFO sqlalchemy.engine.Engine SELECT time_table_6.customer_id, time_table_6.order_id, time_table_6.seller_id, time_table_6.approval_duration, time_table_6.carrier_duration, time_table_6.customer_duration, time_table_6.cust_lat, time_table_6.cust_long, time_table_6.seller_lat, time_table_6.seller_long, time_table_6.weight, time_table_6.length_cm, time_table_6.height_cm, time_table_6.width_cm, time_table_6.carrier_limit, time_table_6.estimated_delivery \n",
      "FROM time_table_6\n",
      "2022-03-16 22:09:02,074 INFO sqlalchemy.engine.Engine [generated in 0.00079s] {}\n"
     ]
    }
   ],
   "source": [
    "# Get dataframe for time_table\n",
    "\n",
    "temp1 = Table(\"time_table_6\", m2, autoload=True)\n",
    "\n",
    "temp2 = select([temp1])\n",
    "\n",
    "with w_engine.connect() as con2:\n",
    "    temp3 = con2.execute(temp2)\n",
    "\n",
    "temp4 = temp3.fetchall()\n",
    "\n",
    "time_table = pd.DataFrame.from_records(temp4)\n",
    "time_table.columns = temp4[0].keys()\n"
   ]
  },
  {
   "cell_type": "code",
   "execution_count": 8,
   "metadata": {},
   "outputs": [
    {
     "name": "stdout",
     "output_type": "stream",
     "text": [
      "zip_code\n",
      "latitude\n",
      "longitude\n",
      "city\n",
      "state\n"
     ]
    }
   ],
   "source": [
    "for i in geo_avg.columns:\n",
    "    print(i)"
   ]
  },
  {
   "cell_type": "markdown",
   "metadata": {},
   "source": [
    "Build a regression model \n",
    "Parameter: distance and parcel weight\n",
    "Response: approval duration (in second)"
   ]
  },
  {
   "cell_type": "code",
   "execution_count": 14,
   "metadata": {},
   "outputs": [
    {
     "data": {
      "text/plain": [
       "301.85895887168607"
      ]
     },
     "execution_count": 14,
     "metadata": {},
     "output_type": "execute_result"
    }
   ],
   "source": [
    "# Return distance between seller and customer\n",
    "import geopy.distance\n",
    "\n",
    "coords_1 = (time_table['cust_lat'][0],time_table['cust_long'][0])\n",
    "coords_2 = (time_table['seller_lat'][0],time_table['seller_long'][0])\n",
    "\n",
    "distance = geopy.distance.distance(coords_1, coords_2).km\n",
    "distance"
   ]
  },
  {
   "cell_type": "code",
   "execution_count": 2,
   "metadata": {},
   "outputs": [
    {
     "name": "stderr",
     "output_type": "stream",
     "text": [
      "ERROR: Could not find a version that satisfies the requirement jaxlib (from versions: none)\n",
      "ERROR: No matching distribution found for jaxlib\n"
     ]
    }
   ],
   "source": [
    "!pip install jaxlib"
   ]
  },
  {
   "cell_type": "code",
   "execution_count": 1,
   "metadata": {},
   "outputs": [
    {
     "ename": "ModuleNotFoundError",
     "evalue": "No module named 'jaxlib'",
     "output_type": "error",
     "traceback": [
      "\u001b[1;31m---------------------------------------------------------------------------\u001b[0m",
      "\u001b[1;31mModuleNotFoundError\u001b[0m                       Traceback (most recent call last)",
      "\u001b[1;32mc:\\Users\\92503\\Desktop\\AY2021-22 S2\\DSA3101\\Project\\dsa3101-2120-03-cust\\Estimate_delivery.ipynb Cell 16'\u001b[0m in \u001b[0;36m<cell line: 2>\u001b[1;34m()\u001b[0m\n\u001b[0;32m      <a href='vscode-notebook-cell:/c%3A/Users/92503/Desktop/AY2021-22%20S2/DSA3101/Project/dsa3101-2120-03-cust/Estimate_delivery.ipynb#ch0000017?line=0'>1</a>\u001b[0m \u001b[39m## To make the function runs faster, using jax here\u001b[39;00m\n\u001b[1;32m----> <a href='vscode-notebook-cell:/c%3A/Users/92503/Desktop/AY2021-22%20S2/DSA3101/Project/dsa3101-2120-03-cust/Estimate_delivery.ipynb#ch0000017?line=1'>2</a>\u001b[0m \u001b[39mfrom\u001b[39;00m \u001b[39mjax\u001b[39;00m \u001b[39mimport\u001b[39;00m vmap\n\u001b[0;32m      <a href='vscode-notebook-cell:/c%3A/Users/92503/Desktop/AY2021-22%20S2/DSA3101/Project/dsa3101-2120-03-cust/Estimate_delivery.ipynb#ch0000017?line=3'>4</a>\u001b[0m \u001b[39mdef\u001b[39;00m \u001b[39mdis\u001b[39m(coord1_1, coord1_2, coord2_1, coord2_2):\n\u001b[0;32m      <a href='vscode-notebook-cell:/c%3A/Users/92503/Desktop/AY2021-22%20S2/DSA3101/Project/dsa3101-2120-03-cust/Estimate_delivery.ipynb#ch0000017?line=4'>5</a>\u001b[0m     coord1 \u001b[39m=\u001b[39m (coord1_1, coord1_2)\n",
      "File \u001b[1;32m~\\AppData\\Local\\Programs\\Python\\Python310\\lib\\site-packages\\jax\\__init__.py:21\u001b[0m, in \u001b[0;36m<module>\u001b[1;34m\u001b[0m\n\u001b[0;32m     <a href='file:///c%3A/Users/92503/AppData/Local/Programs/Python/Python310/lib/site-packages/jax/__init__.py?line=17'>18</a>\u001b[0m \u001b[39mdel\u001b[39;00m _os\n\u001b[0;32m     <a href='file:///c%3A/Users/92503/AppData/Local/Programs/Python/Python310/lib/site-packages/jax/__init__.py?line=19'>20</a>\u001b[0m \u001b[39m# flake8: noqa: F401\u001b[39;00m\n\u001b[1;32m---> <a href='file:///c%3A/Users/92503/AppData/Local/Programs/Python/Python310/lib/site-packages/jax/__init__.py?line=20'>21</a>\u001b[0m \u001b[39mfrom\u001b[39;00m \u001b[39m.\u001b[39;00m\u001b[39mconfig\u001b[39;00m \u001b[39mimport\u001b[39;00m config\n\u001b[0;32m     <a href='file:///c%3A/Users/92503/AppData/Local/Programs/Python/Python310/lib/site-packages/jax/__init__.py?line=21'>22</a>\u001b[0m \u001b[39mfrom\u001b[39;00m \u001b[39m.\u001b[39;00m\u001b[39mapi\u001b[39;00m \u001b[39mimport\u001b[39;00m (\n\u001b[0;32m     <a href='file:///c%3A/Users/92503/AppData/Local/Programs/Python/Python310/lib/site-packages/jax/__init__.py?line=22'>23</a>\u001b[0m   ad,  \u001b[39m# TODO(phawkins): update users to avoid this.\u001b[39;00m\n\u001b[0;32m     <a href='file:///c%3A/Users/92503/AppData/Local/Programs/Python/Python310/lib/site-packages/jax/__init__.py?line=23'>24</a>\u001b[0m   argnums_partial,  \u001b[39m# TODO(phawkins): update Haiku to not use this.\u001b[39;00m\n\u001b[1;32m   (...)\u001b[0m\n\u001b[0;32m     <a href='file:///c%3A/Users/92503/AppData/Local/Programs/Python/Python310/lib/site-packages/jax/__init__.py?line=86'>87</a>\u001b[0m   xla_computation,\n\u001b[0;32m     <a href='file:///c%3A/Users/92503/AppData/Local/Programs/Python/Python310/lib/site-packages/jax/__init__.py?line=87'>88</a>\u001b[0m )\n\u001b[0;32m     <a href='file:///c%3A/Users/92503/AppData/Local/Programs/Python/Python310/lib/site-packages/jax/__init__.py?line=88'>89</a>\u001b[0m \u001b[39mfrom\u001b[39;00m \u001b[39m.\u001b[39;00m\u001b[39mexperimental\u001b[39;00m\u001b[39m.\u001b[39;00m\u001b[39mmaps\u001b[39;00m \u001b[39mimport\u001b[39;00m soft_pmap\n",
      "File \u001b[1;32m~\\AppData\\Local\\Programs\\Python\\Python310\\lib\\site-packages\\jax\\config.py:19\u001b[0m, in \u001b[0;36m<module>\u001b[1;34m\u001b[0m\n\u001b[0;32m     <a href='file:///c%3A/Users/92503/AppData/Local/Programs/Python/Python310/lib/site-packages/jax/config.py?line=16'>17</a>\u001b[0m \u001b[39mimport\u001b[39;00m \u001b[39mthreading\u001b[39;00m\n\u001b[0;32m     <a href='file:///c%3A/Users/92503/AppData/Local/Programs/Python/Python310/lib/site-packages/jax/config.py?line=17'>18</a>\u001b[0m \u001b[39mfrom\u001b[39;00m \u001b[39mtyping\u001b[39;00m \u001b[39mimport\u001b[39;00m Optional\n\u001b[1;32m---> <a href='file:///c%3A/Users/92503/AppData/Local/Programs/Python/Python310/lib/site-packages/jax/config.py?line=18'>19</a>\u001b[0m \u001b[39mfrom\u001b[39;00m \u001b[39mjax\u001b[39;00m \u001b[39mimport\u001b[39;00m lib\n\u001b[0;32m     <a href='file:///c%3A/Users/92503/AppData/Local/Programs/Python/Python310/lib/site-packages/jax/config.py?line=20'>21</a>\u001b[0m \u001b[39mdef\u001b[39;00m \u001b[39mbool_env\u001b[39m(varname: \u001b[39mstr\u001b[39m, default: \u001b[39mbool\u001b[39m) \u001b[39m-\u001b[39m\u001b[39m>\u001b[39m \u001b[39mbool\u001b[39m:\n\u001b[0;32m     <a href='file:///c%3A/Users/92503/AppData/Local/Programs/Python/Python310/lib/site-packages/jax/config.py?line=21'>22</a>\u001b[0m   \u001b[39m\"\"\"Read an environment variable and interpret it as a boolean.\u001b[39;00m\n\u001b[0;32m     <a href='file:///c%3A/Users/92503/AppData/Local/Programs/Python/Python310/lib/site-packages/jax/config.py?line=22'>23</a>\u001b[0m \n\u001b[0;32m     <a href='file:///c%3A/Users/92503/AppData/Local/Programs/Python/Python310/lib/site-packages/jax/config.py?line=23'>24</a>\u001b[0m \u001b[39m  True values are (case insensitive): 'y', 'yes', 't', 'true', 'on', and '1';\u001b[39;00m\n\u001b[1;32m   (...)\u001b[0m\n\u001b[0;32m     <a href='file:///c%3A/Users/92503/AppData/Local/Programs/Python/Python310/lib/site-packages/jax/config.py?line=29'>30</a>\u001b[0m \u001b[39m  Raises: ValueError if the environment variable is anything else.\u001b[39;00m\n\u001b[0;32m     <a href='file:///c%3A/Users/92503/AppData/Local/Programs/Python/Python310/lib/site-packages/jax/config.py?line=30'>31</a>\u001b[0m \u001b[39m  \"\"\"\u001b[39;00m\n",
      "File \u001b[1;32m~\\AppData\\Local\\Programs\\Python\\Python310\\lib\\site-packages\\jax\\lib\\__init__.py:23\u001b[0m, in \u001b[0;36m<module>\u001b[1;34m\u001b[0m\n\u001b[0;32m      <a href='file:///c%3A/Users/92503/AppData/Local/Programs/Python/Python310/lib/site-packages/jax/lib/__init__.py?line=0'>1</a>\u001b[0m \u001b[39m# Copyright 2018 Google LLC\u001b[39;00m\n\u001b[0;32m      <a href='file:///c%3A/Users/92503/AppData/Local/Programs/Python/Python310/lib/site-packages/jax/lib/__init__.py?line=1'>2</a>\u001b[0m \u001b[39m#\u001b[39;00m\n\u001b[0;32m      <a href='file:///c%3A/Users/92503/AppData/Local/Programs/Python/Python310/lib/site-packages/jax/lib/__init__.py?line=2'>3</a>\u001b[0m \u001b[39m# Licensed under the Apache License, Version 2.0 (the \"License\");\u001b[39;00m\n\u001b[1;32m   (...)\u001b[0m\n\u001b[0;32m     <a href='file:///c%3A/Users/92503/AppData/Local/Programs/Python/Python310/lib/site-packages/jax/lib/__init__.py?line=14'>15</a>\u001b[0m \u001b[39m# This module is largely a wrapper around `jaxlib` that performs version\u001b[39;00m\n\u001b[0;32m     <a href='file:///c%3A/Users/92503/AppData/Local/Programs/Python/Python310/lib/site-packages/jax/lib/__init__.py?line=15'>16</a>\u001b[0m \u001b[39m# checking on import.\u001b[39;00m\n\u001b[0;32m     <a href='file:///c%3A/Users/92503/AppData/Local/Programs/Python/Python310/lib/site-packages/jax/lib/__init__.py?line=17'>18</a>\u001b[0m __all__ \u001b[39m=\u001b[39m [\n\u001b[0;32m     <a href='file:///c%3A/Users/92503/AppData/Local/Programs/Python/Python310/lib/site-packages/jax/lib/__init__.py?line=18'>19</a>\u001b[0m   \u001b[39m'\u001b[39m\u001b[39mcuda_prng\u001b[39m\u001b[39m'\u001b[39m, \u001b[39m'\u001b[39m\u001b[39mcusolver\u001b[39m\u001b[39m'\u001b[39m, \u001b[39m'\u001b[39m\u001b[39mrocsolver\u001b[39m\u001b[39m'\u001b[39m, \u001b[39m'\u001b[39m\u001b[39mjaxlib\u001b[39m\u001b[39m'\u001b[39m, \u001b[39m'\u001b[39m\u001b[39mlapack\u001b[39m\u001b[39m'\u001b[39m,\n\u001b[0;32m     <a href='file:///c%3A/Users/92503/AppData/Local/Programs/Python/Python310/lib/site-packages/jax/lib/__init__.py?line=19'>20</a>\u001b[0m   \u001b[39m'\u001b[39m\u001b[39mpocketfft\u001b[39m\u001b[39m'\u001b[39m, \u001b[39m'\u001b[39m\u001b[39mpytree\u001b[39m\u001b[39m'\u001b[39m, \u001b[39m'\u001b[39m\u001b[39mtpu_client\u001b[39m\u001b[39m'\u001b[39m, \u001b[39m'\u001b[39m\u001b[39mversion\u001b[39m\u001b[39m'\u001b[39m, \u001b[39m'\u001b[39m\u001b[39mxla_client\u001b[39m\u001b[39m'\u001b[39m\n\u001b[0;32m     <a href='file:///c%3A/Users/92503/AppData/Local/Programs/Python/Python310/lib/site-packages/jax/lib/__init__.py?line=20'>21</a>\u001b[0m ]\n\u001b[1;32m---> <a href='file:///c%3A/Users/92503/AppData/Local/Programs/Python/Python310/lib/site-packages/jax/lib/__init__.py?line=22'>23</a>\u001b[0m \u001b[39mimport\u001b[39;00m \u001b[39mjaxlib\u001b[39;00m\n\u001b[0;32m     <a href='file:///c%3A/Users/92503/AppData/Local/Programs/Python/Python310/lib/site-packages/jax/lib/__init__.py?line=24'>25</a>\u001b[0m \u001b[39m# Must be kept in sync with the jaxlib version in build/test-requirements.txt\u001b[39;00m\n\u001b[0;32m     <a href='file:///c%3A/Users/92503/AppData/Local/Programs/Python/Python310/lib/site-packages/jax/lib/__init__.py?line=25'>26</a>\u001b[0m _minimum_jaxlib_version \u001b[39m=\u001b[39m (\u001b[39m0\u001b[39m, \u001b[39m1\u001b[39m, \u001b[39m60\u001b[39m)\n",
      "\u001b[1;31mModuleNotFoundError\u001b[0m: No module named 'jaxlib'"
     ]
    }
   ],
   "source": [
    "## To make the function runs faster, using jax here\n",
    "from jax import vmap\n",
    "\n",
    "def dis(coord1_1, coord1_2, coord2_1, coord2_2):\n",
    "    coord1 = (coord1_1, coord1_2)\n",
    "    coord2 = (coord2_1, coord2_2)\n",
    "    return geopy.distance.distance(coords_1, coords_2).km\n",
    "\n",
    "\n",
    "dis_vmap = vmap(dis, in_axes=(0,0,0,0))\n",
    "distance = dis_vmap(time_table['cust_lat'][0:10],time_table['cust_long'][0:10],\n",
    " time_table['seller_lat'][0:10],time_table['seller_long'][0:10])"
   ]
  }
 ],
 "metadata": {
  "interpreter": {
   "hash": "8c937e174cfb2e891dbe4bc6be130f50f9ec153356d358396125ca9153f6efdb"
  },
  "kernelspec": {
   "display_name": "Python 3.10.2 64-bit",
   "language": "python",
   "name": "python3"
  },
  "language_info": {
   "codemirror_mode": {
    "name": "ipython",
    "version": 3
   },
   "file_extension": ".py",
   "mimetype": "text/x-python",
   "name": "python",
   "nbconvert_exporter": "python",
   "pygments_lexer": "ipython3",
   "version": "3.10.2"
  },
  "orig_nbformat": 4
 },
 "nbformat": 4,
 "nbformat_minor": 2
}
