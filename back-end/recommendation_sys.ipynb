{
 "cells": [
  {
   "cell_type": "code",
   "execution_count": null,
   "id": "4d54d299-11d6-4f08-bf44-a24c5f5917c2",
   "metadata": {},
   "outputs": [],
   "source": [
    "from sqlalchemy import create_engine, inspect, select, text, and_, or_, func\n",
    "from sqlalchemy import Table, MetaData\n",
    "\n",
    "import pandas as pd"
   ]
  },
  {
   "cell_type": "code",
   "execution_count": null,
   "id": "29257219-8a3d-4cd3-baf3-65af52342543",
   "metadata": {},
   "outputs": [],
   "source": [
    "w_engine = create_engine('mysql+pymysql://e0376929:' + 'wsUQu4z0' + '@localhost:3306/olist', echo=True)"
   ]
  },
  {
   "cell_type": "code",
   "execution_count": null,
   "id": "a16a75f3-973e-42bd-9bfa-b366f3037adc",
   "metadata": {},
   "outputs": [],
   "source": [
    "def order_category():\n",
    "    query = 'select n.english, count(*) from order_items as o inner join products as p on(o.product_id = p.product_id) inner join prod_cat_name as n on (p.category_name = n.portugese) group by n.english order by count(*) desc limit 10;'\n",
    "    with w_engine.connect() as con:\n",
    "        query_re_ca = con.execute(query)\n",
    "    re_category = query_re_ca.fetchall()\n",
    "    t = []\n",
    "    # t\n",
    "    for i in range(len(re_category)):\n",
    "        # tt = re_category[i][0]\n",
    "        t.append(re_category[i][0][:-1])\n",
    "    return t"
   ]
  },
  {
   "cell_type": "code",
   "execution_count": null,
   "id": "e2e37f47-ab77-4148-89b4-36a3b0487319",
   "metadata": {},
   "outputs": [],
   "source": [
    "tt = order_category()\n",
    "tt"
   ]
  },
  {
   "cell_type": "code",
   "execution_count": null,
   "id": "a69fd28a-cf37-44df-8303-eb6929c431ef",
   "metadata": {},
   "outputs": [],
   "source": [
    "def product_rank()\n",
    "    # get result from SQL\n",
    "    q = \"\"\"select o.product_id, avg(score) as avg_rank, avg(price) as avg_price, sum(order_item_id) as total_sale\n",
    "    from order_items as o left join order_reviews as o_re using(order_id) \n",
    "    left join products as p on(o.product_id = p.product_id)\n",
    "    group by o.product_id;\"\"\"\n",
    "    with w_engine.connect() as con:\n",
    "        d1 = con.execute(q)\n",
    "    s1 = d1.fetchall()\n",
    "    s1 = pd.DataFrame(s1)\n",
    "    \n",
    "    # rename the dataframe\n",
    "    s1.rename(columns={0: \"product_id\", 1: \"avg_score\", 2: \"avg_price\", 3: \"total_sale\"}, errors=\"raise\", inplace = True)\n",
    "    \n",
    "    # processing the result\n",
    "    s1[[\"avg_score\",\"avg_price\", \"total_sale\"]] = s1[[\"avg_score\",\"avg_price\", \"total_sale\"]].astype('float')\n",
    "    s1[[\"avg_price\", \"total_sale\"]] = np.log10(s1[[\"avg_price\", \"total_sale\"]])\n",
    "    scaler = preprocessing.MinMaxScaler()\n",
    "    s1[[\"avg_score\",\"avg_price\", \"total_sale\"]] = scaler.fit_transform(s1[[\"avg_score\",\"avg_price\", \"total_sale\"]])\n",
    "    \n",
    "    #generate the total scoreing\n",
    "    s1[\"total ranking\"] = 0.7* s1[\"total_sale\"] -0.2* s1[\"avg_price\"] + 0.1 * s1[\"avg_score\"]\n",
    "    s1.sort_values(by = [\"total ranking\"],ascending=False, inplace = True)\n",
    "    \n",
    "    return s1[\"product\"][:10]"
   ]
  },
  {
   "cell_type": "code",
   "execution_count": null,
   "id": "4448d88c-2848-4bfb-aaa4-730b5405c93d",
   "metadata": {},
   "outputs": [],
   "source": [
    "def rank_price(category):\n",
    "    q = \"\"\"select o.product_id, seller_id, avg(price)\n",
    "    from order_items AS o\n",
    "            INNER JOIN\n",
    "        products AS p ON (o.product_id = p.product_id)\n",
    "            INNER JOIN\n",
    "        prod_cat_name AS n ON (p.category_name = n.portugese)\n",
    "    where n.english like :search_key\n",
    "    group by product_id, seller_id\n",
    "    order by avg(price)\n",
    "    limit 10\"\"\"\n",
    "    \n",
    "    category = category + \"%\"\n",
    "    with w_engine.connect() as con:\n",
    "        rs = con.execute(text(q).bindparams(search_key = category))\n",
    "\n",
    "    result = rs.fetchall()\n",
    "    return result"
   ]
  }
 ],
 "metadata": {
  "kernelspec": {
   "display_name": "Python 3 (ipykernel)",
   "language": "python",
   "name": "python3"
  },
  "language_info": {
   "codemirror_mode": {
    "name": "ipython",
    "version": 3
   },
   "file_extension": ".py",
   "mimetype": "text/x-python",
   "name": "python",
   "nbconvert_exporter": "python",
   "pygments_lexer": "ipython3",
   "version": "3.7.2"
  }
 },
 "nbformat": 4,
 "nbformat_minor": 5
}
