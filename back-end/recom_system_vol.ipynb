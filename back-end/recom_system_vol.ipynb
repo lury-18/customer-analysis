{
 "cells": [
  {
   "cell_type": "code",
   "execution_count": null,
   "metadata": {},
   "outputs": [],
   "source": []
  },
  {
   "cell_type": "code",
   "execution_count": 41,
   "metadata": {},
   "outputs": [],
   "source": [
    "from sqlalchemy import create_engine, inspect, select, text, and_, or_, func\n",
    "from sqlalchemy import Table, MetaData\n",
    "\n",
    "import pandas as pd"
   ]
  },
  {
   "cell_type": "markdown",
   "metadata": {},
   "source": [
    "ssh -i /Users/xuxingyu/Documents/GitHub/dsa3101-2120/dsa3101-class.pem -L 3310:localhost:3306 -N -f dsa3101@13.251.201.156"
   ]
  },
  {
   "cell_type": "code",
   "execution_count": 42,
   "metadata": {},
   "outputs": [],
   "source": [
    "w_engine = create_engine('mysql+pymysql://e0376989:' + '9i7vgn8x' + '@localhost:3310/olist', echo=True)"
   ]
  },
  {
   "cell_type": "code",
   "execution_count": 43,
   "metadata": {},
   "outputs": [
    {
     "name": "stdout",
     "output_type": "stream",
     "text": [
      "2022-03-29 21:06:12,172 INFO sqlalchemy.engine.Engine SELECT DATABASE()\n",
      "2022-03-29 21:06:12,173 INFO sqlalchemy.engine.Engine [raw sql] {}\n",
      "2022-03-29 21:06:12,205 INFO sqlalchemy.engine.Engine SELECT @@sql_mode\n",
      "2022-03-29 21:06:12,207 INFO sqlalchemy.engine.Engine [raw sql] {}\n",
      "2022-03-29 21:06:12,231 INFO sqlalchemy.engine.Engine SELECT @@lower_case_table_names\n",
      "2022-03-29 21:06:12,237 INFO sqlalchemy.engine.Engine [raw sql] {}\n",
      "2022-03-29 21:06:12,270 INFO sqlalchemy.engine.Engine SHOW FULL TABLES FROM `olist`\n",
      "2022-03-29 21:06:12,271 INFO sqlalchemy.engine.Engine [raw sql] {}\n",
      "2022-03-29 21:06:12,298 INFO sqlalchemy.engine.Engine SHOW CREATE TABLE `customers`\n",
      "2022-03-29 21:06:12,299 INFO sqlalchemy.engine.Engine [raw sql] {}\n",
      "2022-03-29 21:06:12,319 INFO sqlalchemy.engine.Engine SHOW CREATE TABLE `geo_avg`\n",
      "2022-03-29 21:06:12,319 INFO sqlalchemy.engine.Engine [raw sql] {}\n",
      "2022-03-29 21:06:12,378 INFO sqlalchemy.engine.Engine SHOW CREATE TABLE `geo_loc`\n",
      "2022-03-29 21:06:12,379 INFO sqlalchemy.engine.Engine [raw sql] {}\n",
      "2022-03-29 21:06:12,393 INFO sqlalchemy.engine.Engine SHOW CREATE TABLE `order_items`\n",
      "2022-03-29 21:06:12,393 INFO sqlalchemy.engine.Engine [raw sql] {}\n",
      "2022-03-29 21:06:12,420 INFO sqlalchemy.engine.Engine SHOW CREATE TABLE `order_reviews`\n",
      "2022-03-29 21:06:12,420 INFO sqlalchemy.engine.Engine [raw sql] {}\n",
      "2022-03-29 21:06:12,438 INFO sqlalchemy.engine.Engine SHOW CREATE TABLE `orders`\n",
      "2022-03-29 21:06:12,438 INFO sqlalchemy.engine.Engine [raw sql] {}\n",
      "2022-03-29 21:06:12,446 INFO sqlalchemy.engine.Engine SHOW CREATE TABLE `payments`\n",
      "2022-03-29 21:06:12,446 INFO sqlalchemy.engine.Engine [raw sql] {}\n",
      "2022-03-29 21:06:12,458 INFO sqlalchemy.engine.Engine SHOW CREATE TABLE `prod_cat_name`\n",
      "2022-03-29 21:06:12,459 INFO sqlalchemy.engine.Engine [raw sql] {}\n",
      "2022-03-29 21:06:12,470 INFO sqlalchemy.engine.Engine SHOW CREATE TABLE `products`\n",
      "2022-03-29 21:06:12,471 INFO sqlalchemy.engine.Engine [raw sql] {}\n",
      "2022-03-29 21:06:12,481 INFO sqlalchemy.engine.Engine SHOW CREATE TABLE `seller`\n",
      "2022-03-29 21:06:12,481 INFO sqlalchemy.engine.Engine [raw sql] {}\n",
      "2022-03-29 21:06:12,495 INFO sqlalchemy.engine.Engine SHOW CREATE TABLE `time_table`\n",
      "2022-03-29 21:06:12,496 INFO sqlalchemy.engine.Engine [raw sql] {}\n"
     ]
    }
   ],
   "source": [
    "m2 = MetaData(bind=w_engine)\n",
    "m2.reflect()"
   ]
  },
  {
   "cell_type": "code",
   "execution_count": 44,
   "metadata": {},
   "outputs": [],
   "source": [
    "order_items= Table(\"order_items\", m2, autoload=True)\n",
    "products= Table(\"products\", m2, autoload=True)\n",
    "prod_cat_name= Table(\"prod_cat_name\", m2, autoload=True)\n",
    "\n"
   ]
  },
  {
   "cell_type": "code",
   "execution_count": 160,
   "metadata": {},
   "outputs": [],
   "source": []
  },
  {
   "cell_type": "code",
   "execution_count": 161,
   "metadata": {},
   "outputs": [
    {
     "name": "stdout",
     "output_type": "stream",
     "text": [
      "SELECT order_items.product_id, order_items.seller_id, count(order_items.product_id) AS count_1 \n",
      "FROM order_items INNER JOIN products ON order_items.product_id = products.product_id \n",
      "WHERE products.category_name = %(category_name_1)s GROUP BY order_items.product_id, order_items.seller_id ORDER BY count(order_items.product_id) DESC \n",
      " LIMIT %(param_1)s\n"
     ]
    }
   ],
   "source": [
    "print(volumes.compile())"
   ]
  },
  {
   "cell_type": "code",
   "execution_count": 24,
   "metadata": {},
   "outputs": [
    {
     "name": "stdout",
     "output_type": "stream",
     "text": [
      "2022-03-29 18:21:13,357 INFO sqlalchemy.engine.Engine SELECT prod_cat_name.english, order_items.product_id, order_items.seller_id, COUNT(*) FROM products LEFT JOIN order_items ON order_items.product_id=products.product_id LEFT JOIN prod_cat_name on products.category_name=prod_cat_name.portugese WHERE (products.category_name like %(name)s) GROUP BY prod_cat_name.english,order_items.product_id,order_items.seller_id ORDER BY COUNT(*) DESC\n",
      "2022-03-29 18:21:13,358 INFO sqlalchemy.engine.Engine [generated in 0.00117s] {'name': 'esporte_lazer'}\n"
     ]
    }
   ],
   "source": [
    "\n",
    "q1=\"SELECT prod_cat_name.english, order_items.product_id, order_items.seller_id, COUNT(*) FROM products LEFT JOIN order_items ON order_items.product_id=products.product_id LEFT JOIN prod_cat_name on products.category_name=prod_cat_name.portugese WHERE (products.category_name like :name) GROUP BY prod_cat_name.english,order_items.product_id,order_items.seller_id ORDER BY COUNT(*) DESC\"\n",
    "\n",
    "with w_engine.connect() as con:\n",
    "    rs = con.execute(text(q1).bindparams(name='esporte_lazer'))\n",
    "    data= rs.fetchmany(size=10)\n",
    "\n",
    "\n"
   ]
  },
  {
   "cell_type": "code",
   "execution_count": 45,
   "metadata": {},
   "outputs": [],
   "source": [
    "def category_volume(category):\n",
    "    category=category+'\\r'\n",
    "    q1=\"SELECT prod_cat_name.english, order_items.product_id, order_items.seller_id, COUNT(*) FROM order_items LEFT JOIN products ON order_items.product_id=products.product_id LEFT JOIN prod_cat_name on products.category_name=prod_cat_name.portugese WHERE prod_cat_name.english like :category GROUP BY prod_cat_name.english,order_items.product_id,order_items.seller_id ORDER BY COUNT(*) DESC\"\n",
    "\n",
    "    with w_engine.connect() as con:\n",
    "       rs = con.execute(text(q1).bindparams(category=category))\n",
    "       data= rs.fetchmany(size=10)\n",
    "\n",
    "    return data"
   ]
  },
  {
   "cell_type": "code",
   "execution_count": 46,
   "metadata": {},
   "outputs": [
    {
     "name": "stdout",
     "output_type": "stream",
     "text": [
      "2022-03-29 21:06:20,324 INFO sqlalchemy.engine.Engine SELECT prod_cat_name.english, order_items.product_id, order_items.seller_id, COUNT(*) FROM order_items LEFT JOIN products ON order_items.product_id=products.product_id LEFT JOIN prod_cat_name on products.category_name=prod_cat_name.portugese WHERE prod_cat_name.english like %(category)s GROUP BY prod_cat_name.english,order_items.product_id,order_items.seller_id ORDER BY COUNT(*) DESC\n",
      "2022-03-29 21:06:20,328 INFO sqlalchemy.engine.Engine [generated in 0.00391s] {'category': 'sports_leisure\\r'}\n"
     ]
    }
   ],
   "source": [
    "category='sports_leisure'\n",
    "s1 = category_volume(category)"
   ]
  }
 ],
 "metadata": {
  "interpreter": {
   "hash": "aee8b7b246df8f9039afb4144a1f6fd8d2ca17a180786b69acc140d282b71a49"
  },
  "kernelspec": {
   "display_name": "Python 3.9.10 64-bit",
   "language": "python",
   "name": "python3"
  },
  "language_info": {
   "codemirror_mode": {
    "name": "ipython",
    "version": 3
   },
   "file_extension": ".py",
   "mimetype": "text/x-python",
   "name": "python",
   "nbconvert_exporter": "python",
   "pygments_lexer": "ipython3",
   "version": "3.9.10"
  },
  "orig_nbformat": 4
 },
 "nbformat": 4,
 "nbformat_minor": 2
}
